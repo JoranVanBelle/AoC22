{
 "cells": [
  {
   "attachments": {},
   "cell_type": "markdown",
   "metadata": {},
   "source": [
    "# Input"
   ]
  },
  {
   "cell_type": "code",
   "execution_count": 60,
   "metadata": {},
   "outputs": [],
   "source": [
    "def read_input():\n",
    "    with open(\"./data/dag13.txt\") as f:\n",
    "        inp = f.read().split(\"\\n\")\n",
    "\n",
    "    return inp"
   ]
  },
  {
   "attachments": {},
   "cell_type": "markdown",
   "metadata": {},
   "source": [
    "# Part 1"
   ]
  },
  {
   "cell_type": "code",
   "execution_count": 61,
   "metadata": {},
   "outputs": [],
   "source": [
    "def read_list(left, right):\n",
    "    order = -1\n",
    "    for i in range(max(len(left), len(right))):\n",
    "\n",
    "\n",
    "        if i >= len(left):\n",
    "            return True\n",
    "        if i >= len(right):\n",
    "            return False\n",
    "\n",
    "        l = left[i]\n",
    "        r = right[i]\n",
    "        \n",
    "        if type(l) == int and type(r) == int:\n",
    "            if l < r:\n",
    "                order = True\n",
    "\n",
    "            if l > r:\n",
    "                order = False\n",
    "            \n",
    "            if l == r:\n",
    "                order = -1\n",
    "                continue\n",
    "\n",
    "        if type(l) == int and type(r) == list:\n",
    "            l = [l]\n",
    "            order = read_list(l, r)\n",
    "        \n",
    "        if type(l) == list and type(r) == int:\n",
    "            r = [r]\n",
    "            order = read_list(l, r)\n",
    "        \n",
    "        if type(l) == list and type(r) == list:\n",
    "            order = read_list(l, r)\n",
    "        \n",
    "        if order != -1:\n",
    "            return order\n",
    "    return order"
   ]
  },
  {
   "cell_type": "code",
   "execution_count": 62,
   "metadata": {},
   "outputs": [
    {
     "data": {
      "text/plain": [
       "6428"
      ]
     },
     "execution_count": 62,
     "metadata": {},
     "output_type": "execute_result"
    }
   ],
   "source": [
    "import ast\n",
    "inp = read_input()\n",
    "\n",
    "idx = []\n",
    "counter = 1\n",
    "\n",
    "for i in range(0, len(inp) - 1, 3):\n",
    "    left = ast.literal_eval(inp[i])\n",
    "    right = ast.literal_eval(inp[i+1])\n",
    "    \n",
    "    if read_list(left, right):\n",
    "        idx.append(counter)\n",
    "\n",
    "    counter += 1\n",
    "sum(idx)"
   ]
  },
  {
   "attachments": {},
   "cell_type": "markdown",
   "metadata": {},
   "source": [
    "# Part 2"
   ]
  },
  {
   "cell_type": "code",
   "execution_count": 63,
   "metadata": {},
   "outputs": [],
   "source": [
    "def sort(left, right):\n",
    "    order = -1\n",
    "    for i in range(max(len(left), len(right))):\n",
    "\n",
    "\n",
    "        if i >= len(left):\n",
    "            return left, right\n",
    "        if i >= len(right):\n",
    "            left, right = right, left\n",
    "            return left, right\n",
    "\n",
    "        l = left[i]\n",
    "        r = right[i]\n",
    "        \n",
    "        if type(l) == int and type(r) == int:\n",
    "            if l < r:\n",
    "                order = True\n",
    "\n",
    "            if l > r:\n",
    "                order = False\n",
    "            \n",
    "            if l == r:\n",
    "                order = -1\n",
    "                continue\n",
    "\n",
    "        if type(l) == int and type(r) == list:\n",
    "            l = [l]\n",
    "            order = read_list(l, r)\n",
    "        \n",
    "        if type(l) == list and type(r) == int:\n",
    "            r = [r]\n",
    "            order = read_list(l, r)\n",
    "        \n",
    "        if type(l) == list and type(r) == list:\n",
    "            order = read_list(l, r)\n",
    "        \n",
    "        if order != -1:\n",
    "            if order:\n",
    "                return left, right\n",
    "            else:\n",
    "                left, right = right, left\n",
    "                return left, right\n",
    "\n",
    "    if order:\n",
    "        return left, right\n",
    "    else:\n",
    "        left, right = right, left\n",
    "        return left, right"
   ]
  },
  {
   "cell_type": "code",
   "execution_count": 64,
   "metadata": {},
   "outputs": [
    {
     "name": "stderr",
     "output_type": "stream",
     "text": [
      "100%|██████████| 302/302 [01:07<00:00,  4.47it/s]\n"
     ]
    },
    {
     "data": {
      "text/plain": [
       "22464"
      ]
     },
     "execution_count": 64,
     "metadata": {},
     "output_type": "execute_result"
    }
   ],
   "source": [
    "import ast\n",
    "from tqdm import tqdm\n",
    "\n",
    "inp = read_input()\n",
    "\n",
    "add_on = [\"\\n\", \"[[2]]\", \"[[6]]\"]\n",
    "for i in add_on:\n",
    "    inp.append(i)\n",
    "\n",
    "for i in range(0, len(inp) - 1, 3):\n",
    "    inp[i] = ast.literal_eval(inp[i])\n",
    "    inp[i+1] = ast.literal_eval(inp[i+1])\n",
    "\n",
    "res = [x for x in inp if x != \"\" and x != \"\\n\"]\n",
    "\n",
    "temp = []\n",
    "for _ in tqdm(range(len(res))):\n",
    "    for j in range(1, len(res)):\n",
    "        for i in range(j):\n",
    "            left = res[i]\n",
    "            right = res[i+1]\n",
    "            \n",
    "            res[i], res[i+1] = sort(res[i], res[i+1])\n",
    "\n",
    "(res.index([[2]]) + 1) * (res.index([[6]]) + 1)"
   ]
  }
 ],
 "metadata": {
  "kernelspec": {
   "display_name": "Python 3",
   "language": "python",
   "name": "python3"
  },
  "language_info": {
   "codemirror_mode": {
    "name": "ipython",
    "version": 3
   },
   "file_extension": ".py",
   "mimetype": "text/x-python",
   "name": "python",
   "nbconvert_exporter": "python",
   "pygments_lexer": "ipython3",
   "version": "3.9.13 (tags/v3.9.13:6de2ca5, May 17 2022, 16:36:42) [MSC v.1929 64 bit (AMD64)]"
  },
  "orig_nbformat": 4,
  "vscode": {
   "interpreter": {
    "hash": "e95d8577fb9c943f973ce139fc266a65ebf90d2a0ba257cfbd02c19732a6ac7e"
   }
  }
 },
 "nbformat": 4,
 "nbformat_minor": 2
}
