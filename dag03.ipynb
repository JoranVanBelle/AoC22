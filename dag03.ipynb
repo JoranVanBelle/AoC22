{
 "cells": [
  {
   "cell_type": "markdown",
   "metadata": {},
   "source": [
    "# Input"
   ]
  },
  {
   "cell_type": "code",
   "execution_count": 1,
   "metadata": {},
   "outputs": [
    {
     "data": {
      "text/plain": [
       "[['CjhshBJCSrTTsLwqwqwb'], ['GtmnFHlDfcpHbLZjtTTRLWwb']]"
      ]
     },
     "execution_count": 1,
     "metadata": {},
     "output_type": "execute_result"
    }
   ],
   "source": [
    "inp = []\n",
    "with open(\"data/dag03.txt\", \"r\") as f:\n",
    "    for r in f:\n",
    "        inp.append(r.rstrip().split(\" \"))\n",
    "inp[:2]"
   ]
  },
  {
   "cell_type": "markdown",
   "metadata": {},
   "source": [
    "# Part 1"
   ]
  },
  {
   "cell_type": "code",
   "execution_count": 2,
   "metadata": {},
   "outputs": [
    {
     "data": {
      "text/plain": [
       "7766"
      ]
     },
     "execution_count": 2,
     "metadata": {},
     "output_type": "execute_result"
    }
   ],
   "source": [
    "score = 0\n",
    "\n",
    "for i in inp:\n",
    "    found = False\n",
    "    string = i[0]\n",
    "    firstpart, secondpart = string[:len(string)//2], string[len(string)//2:]\n",
    "\n",
    "    for x in range(0, len(firstpart)):\n",
    "        if found: break\n",
    "        for y in range(0, len(secondpart)):\n",
    "            if found: break\n",
    "            if firstpart[x] == secondpart[y]:\n",
    "                found = True\n",
    "                if firstpart[x].islower():\n",
    "                    score += ord(firstpart[x]) - 96\n",
    "                elif firstpart[x].isupper():\n",
    "                    score += ord(firstpart[x]) - 38\n",
    "                \n",
    "\n",
    "score"
   ]
  },
  {
   "cell_type": "markdown",
   "metadata": {},
   "source": [
    "# Part 2"
   ]
  },
  {
   "cell_type": "code",
   "execution_count": 3,
   "metadata": {},
   "outputs": [
    {
     "data": {
      "text/plain": [
       "2415"
      ]
     },
     "execution_count": 3,
     "metadata": {},
     "output_type": "execute_result"
    }
   ],
   "source": [
    "score = 0\n",
    "temp = []\n",
    "\n",
    "for i in range(len(inp)):\n",
    "    found = False\n",
    "    temp.append(inp[i][0])\n",
    "    if len(temp) == 3:\n",
    "        for x in temp[0]:\n",
    "            if found: break\n",
    "            for y in temp[1]:\n",
    "                if found: break\n",
    "                for z in temp[2]:\n",
    "                    if found: break\n",
    "                    if x == y == z:\n",
    "                        found = True\n",
    "                        if x.islower():\n",
    "                            score += ord(x) - 96\n",
    "                        elif x.isupper():\n",
    "                            score += ord(x) - 38\n",
    "        temp = []\n",
    "                \n",
    "\n",
    "score"
   ]
  }
 ],
 "metadata": {
  "kernelspec": {
   "display_name": "Python 3.9.13 64-bit (microsoft store)",
   "language": "python",
   "name": "python3"
  },
  "language_info": {
   "codemirror_mode": {
    "name": "ipython",
    "version": 3
   },
   "file_extension": ".py",
   "mimetype": "text/x-python",
   "name": "python",
   "nbconvert_exporter": "python",
   "pygments_lexer": "ipython3",
   "version": "3.9.13 (tags/v3.9.13:6de2ca5, May 17 2022, 16:36:42) [MSC v.1929 64 bit (AMD64)]"
  },
  "orig_nbformat": 4,
  "vscode": {
   "interpreter": {
    "hash": "e95d8577fb9c943f973ce139fc266a65ebf90d2a0ba257cfbd02c19732a6ac7e"
   }
  }
 },
 "nbformat": 4,
 "nbformat_minor": 2
}
