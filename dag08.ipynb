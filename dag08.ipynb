{
 "cells": [
  {
   "attachments": {},
   "cell_type": "markdown",
   "metadata": {},
   "source": [
    "# Input"
   ]
  },
  {
   "cell_type": "code",
   "execution_count": 1,
   "metadata": {},
   "outputs": [],
   "source": [
    "inp = []\n",
    "with open(\"data/dag08.txt\", \"r\") as f:\n",
    "    text = f.read()\n",
    "\n",
    "inp = text.split(\"\\n\")"
   ]
  },
  {
   "attachments": {},
   "cell_type": "markdown",
   "metadata": {},
   "source": [
    "# Part 1"
   ]
  },
  {
   "cell_type": "code",
   "execution_count": 2,
   "metadata": {},
   "outputs": [
    {
     "data": {
      "text/plain": [
       "1681"
      ]
     },
     "execution_count": 2,
     "metadata": {},
     "output_type": "execute_result"
    }
   ],
   "source": [
    "visible = 0\n",
    "forrest = [list(x) for x in inp]\n",
    "\n",
    "for i in range(1, len(forrest)-1):\n",
    "    for j in range(1, len(forrest[i])-1):\n",
    "        col = [sub[j] for sub in forrest]\n",
    "        biggest = True\n",
    "        for k in col[:i]:\n",
    "            if forrest[i][j] <= k:\n",
    "                biggest = False\n",
    "                continue\n",
    "\n",
    "        if biggest :\n",
    "            visible += 1\n",
    "            continue\n",
    "        \n",
    "        biggest = True\n",
    "        for k in col[i+1:]:\n",
    "            if forrest[i][j] <= k:\n",
    "                biggest = False\n",
    "                break\n",
    "\n",
    "        if biggest:\n",
    "            visible += 1\n",
    "            continue\n",
    "        \n",
    "        # Horizontal\n",
    "        biggest = True\n",
    "        for k in forrest[i][:j]:\n",
    "            if forrest[i][j] <= k:\n",
    "                biggest = False\n",
    "                break\n",
    "\n",
    "        if biggest:\n",
    "            visible += 1\n",
    "            continue\n",
    "            \n",
    "        biggest = True\n",
    "        for k in forrest[i][j+1:]:\n",
    "            if forrest[i][j] <= k:\n",
    "                biggest = False\n",
    "                break\n",
    "\n",
    "        if biggest:\n",
    "            visible += 1\n",
    "            continue\n",
    "\n",
    "visible + 2 * len(forrest[0]) + 2 * len([sub[0] for sub in forrest]) - 4"
   ]
  },
  {
   "attachments": {},
   "cell_type": "markdown",
   "metadata": {},
   "source": [
    "# Part 2"
   ]
  },
  {
   "cell_type": "code",
   "execution_count": 3,
   "metadata": {},
   "outputs": [
    {
     "data": {
      "text/plain": [
       "201684"
      ]
     },
     "execution_count": 3,
     "metadata": {},
     "output_type": "execute_result"
    }
   ],
   "source": [
    "scenic_score = 0\n",
    "forrest = [list(x) for x in inp]\n",
    "tot_scores = []\n",
    "\n",
    "for i in range(1, len(forrest)-1):\n",
    "    scores = [1 for _ in range(len(forrest[i]))]\n",
    "    for j in range(1, len(forrest[i])-1):\n",
    "        col = [sub[j] for sub in forrest]\n",
    "        \n",
    "        for k in reversed(col[:i]):\n",
    "            if forrest[i][j] > k:\n",
    "                scenic_score += 1\n",
    "\n",
    "            if forrest[i][j] <= k:\n",
    "                scenic_score += 1\n",
    "                break\n",
    "        \n",
    "        scores[j] *= scenic_score\n",
    "        scenic_score = 0\n",
    "\n",
    "        for k in col[i+1:]:\n",
    "            if forrest[i][j] > k:\n",
    "                scenic_score += 1\n",
    "\n",
    "            if forrest[i][j] <= k:\n",
    "                scenic_score += 1\n",
    "                break\n",
    "        \n",
    "        # Horizontal\n",
    "        scores[j] *= scenic_score\n",
    "        scenic_score = 0\n",
    "\n",
    "        for k in reversed(forrest[i][:j]):\n",
    "            if forrest[i][j] > k:\n",
    "                scenic_score += 1\n",
    "\n",
    "            if forrest[i][j] <= k:\n",
    "                scenic_score += 1\n",
    "                break\n",
    "            \n",
    "        scores[j] *= scenic_score\n",
    "        scenic_score = 0\n",
    "\n",
    "        for k in forrest[i][j+1:]:\n",
    "            if forrest[i][j] > k:\n",
    "                scenic_score += 1\n",
    "                \n",
    "            if forrest[i][j] <= k:\n",
    "                scenic_score += 1\n",
    "                break\n",
    "        \n",
    "        scores[j] *= scenic_score\n",
    "        scenic_score = 0\n",
    "        \n",
    "    tot_scores.append(scores)\n",
    "\n",
    "max([max(x) for x in tot_scores])"
   ]
  }
 ],
 "metadata": {
  "kernelspec": {
   "display_name": "Python 3",
   "language": "python",
   "name": "python3"
  },
  "language_info": {
   "codemirror_mode": {
    "name": "ipython",
    "version": 3
   },
   "file_extension": ".py",
   "mimetype": "text/x-python",
   "name": "python",
   "nbconvert_exporter": "python",
   "pygments_lexer": "ipython3",
   "version": "3.9.13"
  },
  "orig_nbformat": 4,
  "vscode": {
   "interpreter": {
    "hash": "e95d8577fb9c943f973ce139fc266a65ebf90d2a0ba257cfbd02c19732a6ac7e"
   }
  }
 },
 "nbformat": 4,
 "nbformat_minor": 2
}
