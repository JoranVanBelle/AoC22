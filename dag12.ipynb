{
 "cells": [
  {
   "attachments": {},
   "cell_type": "markdown",
   "metadata": {},
   "source": [
    "# Input"
   ]
  },
  {
   "cell_type": "code",
   "execution_count": 150,
   "metadata": {},
   "outputs": [],
   "source": [
    "def read_input():\n",
    "    with open(\"./data/dag12.txt\") as f:\n",
    "        inp = f.read().split(\"\\n\")\n",
    "\n",
    "    return inp"
   ]
  },
  {
   "attachments": {},
   "cell_type": "markdown",
   "metadata": {},
   "source": [
    "# Part 1"
   ]
  },
  {
   "attachments": {},
   "cell_type": "markdown",
   "metadata": {},
   "source": [
    "# Breadth first"
   ]
  },
  {
   "cell_type": "code",
   "execution_count": 151,
   "metadata": {},
   "outputs": [],
   "source": [
    "import numpy as np\n",
    "import matplotlib.pyplot as plt \n",
    "\n",
    "def print_arr(visited, inp):\n",
    "    temp = np.zeros((41, 70))\n",
    "    for i in visited:\n",
    "        x = i[0]\n",
    "        y = i[1]\n",
    "        temp[y][x] = 1\n",
    "    \n",
    "    plt.imshow(temp, cmap='gray')\n"
   ]
  },
  {
   "cell_type": "code",
   "execution_count": 152,
   "metadata": {},
   "outputs": [
    {
     "name": "stdout",
     "output_type": "stream",
     "text": [
      "352\n"
     ]
    }
   ],
   "source": [
    "inp = read_input()\n",
    "width, height = len(inp[0]), len(inp)\n",
    "start, end = [(row.index(\"S\"), index) for index, row in enumerate(inp) if \"S\" in row][0], [(row.index(\"E\"), index) for index, row in enumerate(inp) if \"E\" in row][0]\n",
    "inp[start[1]] = inp[start[1]].replace(\"S\", \"a\")\n",
    "inp[end[1]] = inp[end[1]].replace(\"E\", \"z\")\n",
    "found = False\n",
    "\n",
    "queue = [[start]]\n",
    "visited = [start]\n",
    "while queue:\n",
    "    # print(f\"queue: {queue}\")\n",
    "    path = queue.pop(0)\n",
    "    # print(f\"path: {path}\")\n",
    "    x, y = path[-1]\n",
    "    if (x, y) == end:\n",
    "        print(len(path)-1)\n",
    "        found = True\n",
    "    for x2, y2 in [(x+1,y), (x-1,y), (x,y+1), (x,y-1)]:\n",
    "        # print(ord(inp[y][x]), ord(inp[y2][x2]), inp[y][x], inp[y2][x2])\n",
    "        # print(y2, x2, 0 <= x2 < width and 0 <= y2 < height and (x2, y2) not in visited and (ord(inp[y2][x2]) - 1 == ord(inp[y][x]) or ord(inp[y][x]) == ord(inp[y2][x2]) + 1 or ord(inp[y][x]) == ord(inp[y2][x2])))\n",
    "        # print(ord(inp[y][x]), inp[y][x])\n",
    "        # print(f\"x: {x}, width: {width}, y: {y}, height: {height}, x2: {x2}, y2: {y2}\")\n",
    "        if 0 <= x2 < width and 0 <= y2 < height and (x2, y2) not in visited and ord(inp[y2][x2]) - 1 <= ord(inp[y][x]):\n",
    "            queue.append(path + [(x2, y2)])\n",
    "            visited.append((x2, y2))\n",
    "    # print(queue)\n",
    "\n",
    "if not found: print(\"No solution\")\n",
    "# print_arr(visited, inp)\n",
    "# print(visited[-1])\n"
   ]
  },
  {
   "attachments": {},
   "cell_type": "markdown",
   "metadata": {},
   "source": [
    "# Part 2"
   ]
  },
  {
   "cell_type": "code",
   "execution_count": 153,
   "metadata": {},
   "outputs": [],
   "source": [
    "a = []\n",
    "res = []\n",
    "for i in range(len(inp)):\n",
    "    inp[i] = list(inp[i])\n",
    "    for j in range(len(inp[i])):\n",
    "        if inp[i][j] == \"a\":\n",
    "            a.append((i, j))"
   ]
  },
  {
   "cell_type": "code",
   "execution_count": 155,
   "metadata": {},
   "outputs": [
    {
     "name": "stderr",
     "output_type": "stream",
     "text": [
      "100%|██████████| 801/801 [00:36<00:00, 21.72it/s]\n"
     ]
    },
    {
     "data": {
      "text/plain": [
       "345"
      ]
     },
     "execution_count": 155,
     "metadata": {},
     "output_type": "execute_result"
    }
   ],
   "source": [
    "from tqdm import tqdm\n",
    "\n",
    "inp = read_input()\n",
    "width, height = len(inp[0]), len(inp)\n",
    "start, end = [(row.index(\"S\"), index) for index, row in enumerate(inp) if \"S\" in row][0], [(row.index(\"E\"), index) for index, row in enumerate(inp) if \"E\" in row][0]\n",
    "inp[start[1]] = inp[start[1]].replace(\"S\", \"a\")\n",
    "inp[end[1]] = inp[end[1]].replace(\"E\", \"z\")\n",
    "found = False\n",
    "\n",
    "a = []\n",
    "res = []\n",
    "for i in range(len(inp)):\n",
    "    inp[i] = list(inp[i])\n",
    "    for j in range(len(inp[i])):\n",
    "        if inp[i][j] == \"a\":\n",
    "            a.append((j ,i))\n",
    "\n",
    "\n",
    "for start in tqdm(a):\n",
    "    queue = [[start]]\n",
    "    visited = [start]\n",
    "    while queue:\n",
    "        # print(f\"queue: {queue}\")\n",
    "        path = queue.pop(0)\n",
    "        # print(f\"path: {path}\")\n",
    "        x, y = path[-1]\n",
    "        if (x, y) == end:\n",
    "            res.append(len(path)-1)\n",
    "            found = True\n",
    "        for x2, y2 in [(x+1,y), (x-1,y), (x,y+1), (x,y-1)]:\n",
    "            # print(ord(inp[y][x]), ord(inp[y2][x2]), inp[y][x], inp[y2][x2])\n",
    "            # print(y2, x2, 0 <= x2 < width and 0 <= y2 < height and (x2, y2) not in visited and (ord(inp[y2][x2]) - 1 == ord(inp[y][x]) or ord(inp[y][x]) == ord(inp[y2][x2]) + 1 or ord(inp[y][x]) == ord(inp[y2][x2])))\n",
    "            # print(ord(inp[y][x]), inp[y][x])\n",
    "            # print(f\"x: {x}, width: {width}, y: {y}, height: {height}, x2: {x2}, y2: {y2}\")\n",
    "            if 0 <= x2 < width and 0 <= y2 < height and (x2, y2) not in visited and ord(inp[y2][x2]) - 1 <= ord(inp[y][x]):\n",
    "                queue.append(path + [(x2, y2)])\n",
    "                visited.append((x2, y2))\n",
    "        # print(queue)\n",
    "\n",
    "if not found: print(\"No solution\")\n",
    "# print_arr(visited, inp)\n",
    "# print(visited[-1])\n",
    "min(res)"
   ]
  }
 ],
 "metadata": {
  "kernelspec": {
   "display_name": "Python 3",
   "language": "python",
   "name": "python3"
  },
  "language_info": {
   "codemirror_mode": {
    "name": "ipython",
    "version": 3
   },
   "file_extension": ".py",
   "mimetype": "text/x-python",
   "name": "python",
   "nbconvert_exporter": "python",
   "pygments_lexer": "ipython3",
   "version": "3.9.13 (tags/v3.9.13:6de2ca5, May 17 2022, 16:36:42) [MSC v.1929 64 bit (AMD64)]"
  },
  "orig_nbformat": 4,
  "vscode": {
   "interpreter": {
    "hash": "e95d8577fb9c943f973ce139fc266a65ebf90d2a0ba257cfbd02c19732a6ac7e"
   }
  }
 },
 "nbformat": 4,
 "nbformat_minor": 2
}
