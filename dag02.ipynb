{
 "cells": [
  {
   "cell_type": "code",
   "execution_count": 1,
   "metadata": {},
   "outputs": [],
   "source": [
    "import pandas as pd"
   ]
  },
  {
   "cell_type": "markdown",
   "metadata": {},
   "source": [
    "# Input"
   ]
  },
  {
   "cell_type": "code",
   "execution_count": 31,
   "metadata": {},
   "outputs": [
    {
     "data": {
      "text/plain": [
       "[['C', 'Z'], ['B', 'Y'], ['C', 'X']]"
      ]
     },
     "execution_count": 31,
     "metadata": {},
     "output_type": "execute_result"
    }
   ],
   "source": [
    "inp = []\n",
    "with open(\"data/dag02.txt\", \"r\") as f:\n",
    "    for r in f:\n",
    "        inp.append(r.rstrip().split(\" \"))\n",
    "inp[:3]"
   ]
  },
  {
   "cell_type": "markdown",
   "metadata": {},
   "source": [
    "# Part 1"
   ]
  },
  {
   "cell_type": "code",
   "execution_count": 33,
   "metadata": {},
   "outputs": [
    {
     "data": {
      "text/plain": [
       "11386"
      ]
     },
     "execution_count": 33,
     "metadata": {},
     "output_type": "execute_result"
    }
   ],
   "source": [
    "score = 0\n",
    "\n",
    "for i in inp:\n",
    "    if i[0] == \"A\":\n",
    "        if i[1] == \"X\":\n",
    "            score += (1+3)\n",
    "        elif i[1] == \"Y\":\n",
    "            score += (2+6)\n",
    "        elif i[1] == \"Z\":\n",
    "            score += (3+0)\n",
    "\n",
    "    elif i[0] == \"B\":\n",
    "        if i[1] == \"X\":\n",
    "            score += (1+0)\n",
    "        elif i[1] == \"Y\":\n",
    "            score += (2+3)\n",
    "        elif i[1] == \"Z\":\n",
    "            score += (3+6)\n",
    "\n",
    "    elif i[0] == \"C\":\n",
    "        if i[1] == \"X\":\n",
    "            score += (1+6)\n",
    "        elif i[1] == \"Y\":\n",
    "            score += (2+0)\n",
    "        elif i[1] == \"Z\":\n",
    "            score += (3+3)\n",
    "\n",
    "score"
   ]
  },
  {
   "cell_type": "markdown",
   "metadata": {},
   "source": [
    "# Part 2"
   ]
  },
  {
   "cell_type": "code",
   "execution_count": 35,
   "metadata": {},
   "outputs": [
    {
     "data": {
      "text/plain": [
       "13600"
      ]
     },
     "execution_count": 35,
     "metadata": {},
     "output_type": "execute_result"
    }
   ],
   "source": [
    "score = 0\n",
    "\n",
    "for i in inp:\n",
    "    if i[0] == \"A\":\n",
    "        if i[1] == \"X\":\n",
    "            score += (3+0)\n",
    "        elif i[1] == \"Y\":\n",
    "            score += (1+3)\n",
    "        elif i[1] == \"Z\":\n",
    "            score += (2+6)\n",
    "\n",
    "    elif i[0] == \"B\":\n",
    "        if i[1] == \"X\":\n",
    "            score += (1+0)\n",
    "        elif i[1] == \"Y\":\n",
    "            score += (2+3)\n",
    "        elif i[1] == \"Z\":\n",
    "            score += (3+6)\n",
    "\n",
    "    elif i[0] == \"C\":\n",
    "        if i[1] == \"X\":\n",
    "            score += (2+0)\n",
    "        elif i[1] == \"Y\":\n",
    "            score += (3+3)\n",
    "        elif i[1] == \"Z\":\n",
    "            score += (1+6)\n",
    "\n",
    "score"
   ]
  }
 ],
 "metadata": {
  "kernelspec": {
   "display_name": "Python 3.9.13 64-bit (microsoft store)",
   "language": "python",
   "name": "python3"
  },
  "language_info": {
   "codemirror_mode": {
    "name": "ipython",
    "version": 3
   },
   "file_extension": ".py",
   "mimetype": "text/x-python",
   "name": "python",
   "nbconvert_exporter": "python",
   "pygments_lexer": "ipython3",
   "version": "3.9.13 (tags/v3.9.13:6de2ca5, May 17 2022, 16:36:42) [MSC v.1929 64 bit (AMD64)]"
  },
  "orig_nbformat": 4,
  "vscode": {
   "interpreter": {
    "hash": "e95d8577fb9c943f973ce139fc266a65ebf90d2a0ba257cfbd02c19732a6ac7e"
   }
  }
 },
 "nbformat": 4,
 "nbformat_minor": 2
}
