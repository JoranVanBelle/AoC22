{
 "cells": [
  {
   "cell_type": "code",
   "execution_count": 18,
   "metadata": {},
   "outputs": [],
   "source": [
    "def read_input():\n",
    "\n",
    "    inp = []\n",
    "\n",
    "    with open(\"./data/dag11.txt\") as f:\n",
    "        temp = {}\n",
    "        for r in f:\n",
    "            # print(r.split(\"Starting items: \")[-1])\n",
    "            r = r.rstrip()\n",
    "            if r.startswith(\"Monkey\"):\n",
    "                temp[\"monkey\"] = int(r.split()[-1][0])\n",
    "            elif r.startswith(\"  Starting items\"):\n",
    "                temp[\"items\"] = [int(x) for x in r.split(\"Starting items: \")[-1].split(\",\")]\n",
    "            elif r.startswith(\"  Operation: \"):\n",
    "                temp[\"operation\"] = r.split(\" \")[-2:]\n",
    "            elif r.startswith(\"  Test\"):\n",
    "                temp[\"test\"] = int(r.split()[-1])\n",
    "            elif r.startswith(\"    If true\"):\n",
    "                temp[\"true\"] = int(r.split()[-1])\n",
    "            elif r.startswith(\"    If false\"):\n",
    "                temp[\"false\"] = int(r.split()[-1])\n",
    "                temp[\"counted\"] = 0\n",
    "                inp.append(temp)\n",
    "                temp = {}\n",
    "            \n",
    "\n",
    "    return inp"
   ]
  },
  {
   "attachments": {},
   "cell_type": "markdown",
   "metadata": {},
   "source": [
    "# Part 1"
   ]
  },
  {
   "cell_type": "code",
   "execution_count": 19,
   "metadata": {},
   "outputs": [],
   "source": [
    "import operator\n",
    "ops = {\n",
    "    '+' : operator.add,\n",
    "    '*' : operator.mul,\n",
    "}"
   ]
  },
  {
   "cell_type": "code",
   "execution_count": 20,
   "metadata": {},
   "outputs": [
    {
     "name": "stderr",
     "output_type": "stream",
     "text": [
      "100%|██████████| 20/20 [00:00<00:00, 10024.63it/s]"
     ]
    },
    {
     "name": "stdout",
     "output_type": "stream",
     "text": [
      "Monkey 0 inspected items 9 times.\n",
      "Monkey 1 inspected items 228 times.\n",
      "Monkey 2 inspected items 228 times.\n",
      "Monkey 3 inspected items 225 times.\n",
      "Monkey 4 inspected items 235 times.\n",
      "Monkey 5 inspected items 11 times.\n",
      "Monkey 6 inspected items 238 times.\n",
      "Monkey 7 inspected items 21 times.\n",
      "Monkey business: 55930\n"
     ]
    },
    {
     "name": "stderr",
     "output_type": "stream",
     "text": [
      "\n"
     ]
    }
   ],
   "source": [
    "from tqdm import tqdm\n",
    "\n",
    "inp = read_input()\n",
    "\n",
    "for _ in tqdm(range(20)):\n",
    "    for i in range(len(inp)):\n",
    "        # Go through items\n",
    "        monkey = inp[i]\n",
    "        for _ in range(len(monkey[\"items\"])):\n",
    "            # Look for operation\n",
    "            item = monkey[\"items\"].pop(0)\n",
    "            if monkey[\"operation\"][1].isdigit():\n",
    "                item = ops[monkey[\"operation\"][0]](item, int(monkey[\"operation\"][1]))\n",
    "            else:\n",
    "                item = ops[monkey[\"operation\"][0]](item, item)\n",
    "            item = item // 3\n",
    "            # Perform test\n",
    "            if item % monkey[\"test\"] == 0:\n",
    "                inp[monkey[\"true\"]][\"items\"].append(item)\n",
    "            else: \n",
    "                inp[monkey[\"false\"]][\"items\"].append(item)\n",
    "            monkey[\"counted\"] += 1\n",
    "\n",
    "maxi = []\n",
    "for i in range(len(inp)):\n",
    "    print(f\"Monkey {i} inspected items {inp[i]['counted']} times.\")\n",
    "    maxi.append(inp[i]['counted'])\n",
    "\n",
    "maxi.sort()\n",
    "print(f\"Monkey business: {maxi[-2] * maxi[-1]}\")"
   ]
  },
  {
   "attachments": {},
   "cell_type": "markdown",
   "metadata": {},
   "source": [
    "# Part 2"
   ]
  },
  {
   "cell_type": "code",
   "execution_count": 21,
   "metadata": {},
   "outputs": [
    {
     "name": "stderr",
     "output_type": "stream",
     "text": [
      "100%|██████████| 10000/10000 [00:00<00:00, 19533.08it/s]"
     ]
    },
    {
     "name": "stdout",
     "output_type": "stream",
     "text": [
      "Monkey 0 inspected items 9744 times.\n",
      "Monkey 1 inspected items 116196 times.\n",
      "Monkey 2 inspected items 121101 times.\n",
      "Monkey 3 inspected items 120866 times.\n",
      "Monkey 4 inspected items 112614 times.\n",
      "Monkey 5 inspected items 1838 times.\n",
      "Monkey 6 inspected items 114818 times.\n",
      "Monkey 7 inspected items 11613 times.\n",
      "Monkey business: 14636993466\n"
     ]
    },
    {
     "name": "stderr",
     "output_type": "stream",
     "text": [
      "\n"
     ]
    }
   ],
   "source": [
    "from tqdm import tqdm\n",
    "import math\n",
    "\n",
    "inp = read_input()\n",
    "\n",
    "mod  = math.prod([x[\"test\"] for x in inp])\n",
    "\n",
    "for _ in tqdm(range(10_000)):\n",
    "    for i in range(len(inp)):\n",
    "        # Go through items\n",
    "        monkey = inp[i]\n",
    "        for _ in range(len(monkey[\"items\"])):\n",
    "            # Look for operation\n",
    "            item = monkey[\"items\"].pop(0)\n",
    "            if monkey[\"operation\"][1].isdigit():\n",
    "                item = ops[monkey[\"operation\"][0]](item, int(monkey[\"operation\"][1]))\n",
    "            else:\n",
    "                item = ops[monkey[\"operation\"][0]](item, item)\n",
    "            item = item % mod\n",
    "            # Perform test\n",
    "            if item % monkey[\"test\"] == 0:\n",
    "                inp[monkey[\"true\"]][\"items\"].append(item)\n",
    "            else: \n",
    "                inp[monkey[\"false\"]][\"items\"].append(item)\n",
    "            monkey[\"counted\"] += 1\n",
    "\n",
    "maxi = []\n",
    "for i in range(len(inp)):\n",
    "    print(f\"Monkey {i} inspected items {inp[i]['counted']} times.\")\n",
    "    maxi.append(inp[i]['counted'])\n",
    "\n",
    "maxi.sort()\n",
    "print(f\"Monkey business: {maxi[-2] * maxi[-1]}\")"
   ]
  }
 ],
 "metadata": {
  "kernelspec": {
   "display_name": "Python 3",
   "language": "python",
   "name": "python3"
  },
  "language_info": {
   "codemirror_mode": {
    "name": "ipython",
    "version": 3
   },
   "file_extension": ".py",
   "mimetype": "text/x-python",
   "name": "python",
   "nbconvert_exporter": "python",
   "pygments_lexer": "ipython3",
   "version": "3.9.13"
  },
  "orig_nbformat": 4,
  "vscode": {
   "interpreter": {
    "hash": "e95d8577fb9c943f973ce139fc266a65ebf90d2a0ba257cfbd02c19732a6ac7e"
   }
  }
 },
 "nbformat": 4,
 "nbformat_minor": 2
}
