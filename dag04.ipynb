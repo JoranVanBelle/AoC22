{
 "cells": [
  {
   "cell_type": "markdown",
   "metadata": {},
   "source": [
    "# Input"
   ]
  },
  {
   "cell_type": "code",
   "execution_count": 150,
   "metadata": {},
   "outputs": [
    {
     "data": {
      "text/plain": [
       "[['11-73', '29-73'], ['43-82', '44-44']]"
      ]
     },
     "execution_count": 150,
     "metadata": {},
     "output_type": "execute_result"
    }
   ],
   "source": [
    "inp = []\n",
    "correct = 0\n",
    "with open(\"data/dag04.txt\", \"r\") as f:\n",
    "    for r in f:\n",
    "        inp.append(r.rstrip().split(\",\"))\n",
    "inp[:2]"
   ]
  },
  {
   "cell_type": "markdown",
   "metadata": {},
   "source": [
    "# Part 1"
   ]
  },
  {
   "cell_type": "code",
   "execution_count": 151,
   "metadata": {},
   "outputs": [
    {
     "data": {
      "text/plain": [
       "528"
      ]
     },
     "execution_count": 151,
     "metadata": {},
     "output_type": "execute_result"
    }
   ],
   "source": [
    "amount = 0\n",
    "\n",
    "for i in inp:\n",
    "    \n",
    "    temp1, temp2 = i[0].split(\",\"), i[1].split(\",\")\n",
    "    \n",
    "    start1, einde1 = temp1[0].split(\"-\")\n",
    "    start2, einde2 = temp2[0].split(\"-\")\n",
    "    start1, einde1, start2, einde2 = [int(x) for x in [start1, einde1, start2, einde2]]\n",
    "    if start1 <= start2 and einde1 >= einde2:\n",
    "        amount += 1\n",
    "    \n",
    "    elif  start1 >= start2 and einde1 <= einde2:\n",
    "        amount += 1\n",
    "\n",
    "amount"
   ]
  },
  {
   "cell_type": "markdown",
   "metadata": {},
   "source": [
    "# Part 2"
   ]
  },
  {
   "cell_type": "code",
   "execution_count": 152,
   "metadata": {},
   "outputs": [
    {
     "data": {
      "text/plain": [
       "881"
      ]
     },
     "execution_count": 152,
     "metadata": {},
     "output_type": "execute_result"
    }
   ],
   "source": [
    "amount = 0\n",
    "\n",
    "for i in inp:\n",
    "    \n",
    "    temp1, temp2 = i[0].split(\",\"), i[1].split(\",\")\n",
    "    \n",
    "    start1, einde1 = temp1[0].split(\"-\")\n",
    "    start2, einde2 = temp2[0].split(\"-\")\n",
    "    start1, einde1, start2, einde2 = [int(x) for x in [start1, einde1, start2, einde2]]\n",
    "\n",
    "    if not (start1 > einde2 or start2 > einde1):\n",
    "        amount += 1\n",
    "\n",
    "amount"
   ]
  }
 ],
 "metadata": {
  "kernelspec": {
   "display_name": "Python 3.9.13 64-bit (microsoft store)",
   "language": "python",
   "name": "python3"
  },
  "language_info": {
   "codemirror_mode": {
    "name": "ipython",
    "version": 3
   },
   "file_extension": ".py",
   "mimetype": "text/x-python",
   "name": "python",
   "nbconvert_exporter": "python",
   "pygments_lexer": "ipython3",
   "version": "3.9.13"
  },
  "orig_nbformat": 4,
  "vscode": {
   "interpreter": {
    "hash": "e95d8577fb9c943f973ce139fc266a65ebf90d2a0ba257cfbd02c19732a6ac7e"
   }
  }
 },
 "nbformat": 4,
 "nbformat_minor": 2
}
