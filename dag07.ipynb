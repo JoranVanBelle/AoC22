{
 "cells": [
  {
   "cell_type": "markdown",
   "metadata": {},
   "source": [
    "# Input"
   ]
  },
  {
   "cell_type": "code",
   "execution_count": 22,
   "metadata": {},
   "outputs": [
    {
     "data": {
      "text/plain": [
       "'$ cd /'"
      ]
     },
     "execution_count": 22,
     "metadata": {},
     "output_type": "execute_result"
    }
   ],
   "source": [
    "inp = []\n",
    "with open(\"data/dag07.txt\", \"r\") as f:\n",
    "    text = f.read()\n",
    "\n",
    "inp = text.split(\"\\n\")\n",
    "inp[0]"
   ]
  },
  {
   "cell_type": "markdown",
   "metadata": {},
   "source": [
    "# Part 1"
   ]
  },
  {
   "cell_type": "code",
   "execution_count": 66,
   "metadata": {},
   "outputs": [
    {
     "data": {
      "text/plain": [
       "1315285"
      ]
     },
     "execution_count": 66,
     "metadata": {},
     "output_type": "execute_result"
    }
   ],
   "source": [
    "tree = []\n",
    "size = {}\n",
    "TRESHOLD = 100000\n",
    "\n",
    "for i in inp:\n",
    "    if i.startswith(\"$ cd\"):\n",
    "        if i.startswith(\"$ cd ..\"):\n",
    "            tree.pop()\n",
    "        else:\n",
    "            tree.append(i.split()[-1])\n",
    "    elif i.startswith('$ ls'):\n",
    "        continue\n",
    "    else:\n",
    "        s = i.split()[0]\n",
    "        if s.isdigit():\n",
    "            s = int(s)\n",
    "            for j in range(len(tree)):\n",
    "                if not \"\\\\\".join(tree[:j+1]) in size:\n",
    "                    size[\"\\\\\".join(tree[:j+1])] = 0\n",
    "                size[\"\\\\\".join(tree[:j+1])] += s\n",
    "\n",
    "tot = 0\n",
    "for key in size:\n",
    "    if size[key] <= TRESHOLD:\n",
    "        tot += size[key]\n",
    "\n",
    "tot"
   ]
  },
  {
   "attachments": {},
   "cell_type": "markdown",
   "metadata": {},
   "source": [
    "# Part 2"
   ]
  },
  {
   "cell_type": "code",
   "execution_count": 65,
   "metadata": {},
   "outputs": [
    {
     "name": "stdout",
     "output_type": "stream",
     "text": [
      "9847279\n"
     ]
    }
   ],
   "source": [
    "tree = []\n",
    "size = {}\n",
    "\n",
    "for i in inp:\n",
    "    if i.startswith(\"$ cd\"):\n",
    "        if i.startswith(\"$ cd ..\"):\n",
    "            tree.pop()\n",
    "        else:\n",
    "            tree.append(i.split()[-1])\n",
    "    elif i.startswith('$ ls'):\n",
    "        continue\n",
    "    else:\n",
    "        s = i.split()[0]\n",
    "        if s.isdigit():\n",
    "            s = int(s)\n",
    "            for j in range(len(tree)):\n",
    "                if not \"\\\\\".join(tree[:j+1]) in size:\n",
    "                    size[\"\\\\\".join(tree[:j+1])] = 0\n",
    "                size[\"\\\\\".join(tree[:j+1])] += s\n",
    "\n",
    "tot = 0\n",
    "for key in size:\n",
    "    if size[key] <= TRESHOLD:\n",
    "        tot += size[key]\n",
    "\n",
    "TRESHOLD = 30000000 - (70000000 - size[\"/\"])\n",
    "\n",
    "for i in sorted(size.values()):\n",
    "    if i >= TRESHOLD:\n",
    "        print(i)\n",
    "        break"
   ]
  }
 ],
 "metadata": {
  "kernelspec": {
   "display_name": "Python 3.9.13 64-bit (microsoft store)",
   "language": "python",
   "name": "python3"
  },
  "language_info": {
   "codemirror_mode": {
    "name": "ipython",
    "version": 3
   },
   "file_extension": ".py",
   "mimetype": "text/x-python",
   "name": "python",
   "nbconvert_exporter": "python",
   "pygments_lexer": "ipython3",
   "version": "3.9.13"
  },
  "orig_nbformat": 4,
  "vscode": {
   "interpreter": {
    "hash": "e95d8577fb9c943f973ce139fc266a65ebf90d2a0ba257cfbd02c19732a6ac7e"
   }
  }
 },
 "nbformat": 4,
 "nbformat_minor": 2
}
