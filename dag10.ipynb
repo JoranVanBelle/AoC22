{
 "cells": [
  {
   "attachments": {},
   "cell_type": "markdown",
   "metadata": {},
   "source": [
    "# Input"
   ]
  },
  {
   "cell_type": "code",
   "execution_count": 120,
   "metadata": {},
   "outputs": [
    {
     "data": {
      "text/plain": [
       "'noop'"
      ]
     },
     "execution_count": 120,
     "metadata": {},
     "output_type": "execute_result"
    }
   ],
   "source": [
    "with open(\"./data/dag10.txt\") as f:\n",
    "    inp = f.read().split(\"\\n\")\n",
    "\n",
    "inp[0]"
   ]
  },
  {
   "attachments": {},
   "cell_type": "markdown",
   "metadata": {},
   "source": [
    "# Part 1"
   ]
  },
  {
   "cell_type": "code",
   "execution_count": 121,
   "metadata": {},
   "outputs": [
    {
     "data": {
      "text/plain": [
       "14860"
      ]
     },
     "execution_count": 121,
     "metadata": {},
     "output_type": "execute_result"
    }
   ],
   "source": [
    "value = 1\n",
    "cycles = 0\n",
    "res = 0\n",
    "treshold = 20\n",
    "\n",
    "for i in inp:\n",
    "    if i == \"noop\":\n",
    "        cycles += 1\n",
    "        if cycles == treshold:\n",
    "                res += (value * treshold)\n",
    "                treshold += 40\n",
    "        continue\n",
    "    if i.startswith(\"addx\"):\n",
    "        amount = int(i.split()[-1])\n",
    "        for i in range(2):\n",
    "            cycles += 1\n",
    "            if cycles == treshold:\n",
    "                res += (value * treshold)\n",
    "                treshold += 40\n",
    "        \n",
    "        value += amount\n",
    "\n",
    "res"
   ]
  },
  {
   "attachments": {},
   "cell_type": "markdown",
   "metadata": {},
   "source": [
    "# Part 2"
   ]
  },
  {
   "cell_type": "code",
   "execution_count": 122,
   "metadata": {},
   "outputs": [],
   "source": [
    "def add_to_text(value, cycles, text):\n",
    "    if cycles % 40 >= value - 1 and cycles % 40 <= value + 1:\n",
    "        text += \"#\"\n",
    "    else: text += \".\"\n",
    "    return text"
   ]
  },
  {
   "cell_type": "code",
   "execution_count": 123,
   "metadata": {},
   "outputs": [
    {
     "name": "stdout",
     "output_type": "stream",
     "text": [
      "###...##..####.####.#..#.#..#.###..#..#.\n",
      "#..#.#..#....#.#....#..#.#..#.#..#.#.#..\n",
      "#..#.#......#..###..####.#..#.#..#.##...\n",
      "###..#.##..#...#....#..#.#..#.###..#.#..\n",
      "#.#..#..#.#....#....#..#.#..#.#.#..#.#..\n",
      "#..#..###.####.####.#..#..##..#..#.#..#.\n"
     ]
    }
   ],
   "source": [
    "value = 1\n",
    "cycles = 0\n",
    "res = 0\n",
    "treshold = 20\n",
    "text = \"\"\n",
    "\n",
    "for i in inp:\n",
    "    if i == \"noop\":\n",
    "        text = add_to_text(value, cycles, text)\n",
    "        cycles += 1\n",
    "\n",
    "    if i.startswith(\"addx\"):\n",
    "        amount = int(i.split()[-1])\n",
    "        for i in range(2):\n",
    "            text = add_to_text(value, cycles, text)\n",
    "            cycles += 1\n",
    "        \n",
    "        value += amount\n",
    "    \n",
    "\n",
    "for i in range(0, len(text), 40):\n",
    "    print(text[i:i+40])"
   ]
  }
 ],
 "metadata": {
  "kernelspec": {
   "display_name": "Python 3",
   "language": "python",
   "name": "python3"
  },
  "language_info": {
   "codemirror_mode": {
    "name": "ipython",
    "version": 3
   },
   "file_extension": ".py",
   "mimetype": "text/x-python",
   "name": "python",
   "nbconvert_exporter": "python",
   "pygments_lexer": "ipython3",
   "version": "3.9.13"
  },
  "orig_nbformat": 4,
  "vscode": {
   "interpreter": {
    "hash": "e95d8577fb9c943f973ce139fc266a65ebf90d2a0ba257cfbd02c19732a6ac7e"
   }
  }
 },
 "nbformat": 4,
 "nbformat_minor": 2
}
